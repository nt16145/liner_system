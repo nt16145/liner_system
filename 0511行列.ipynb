{
 "cells": [
  {
   "cell_type": "markdown",
   "metadata": {},
   "source": [
    "## 行列の計算"
   ]
  },
  {
   "cell_type": "code",
   "execution_count": 41,
   "metadata": {},
   "outputs": [
    {
     "data": {
      "text/plain": [
       "array([[ 1,  2],\n",
       "       [-3,  4]])"
      ]
     },
     "execution_count": 41,
     "metadata": {},
     "output_type": "execute_result"
    }
   ],
   "source": [
    "import numpy as np\n",
    "\n",
    "A = np.array([[1,2], [-3,4]])\n",
    "A"
   ]
  },
  {
   "cell_type": "code",
   "execution_count": 42,
   "metadata": {},
   "outputs": [
    {
     "data": {
      "text/plain": [
       "array([[ 1,  2,  3],\n",
       "       [-3,  4,  5]])"
      ]
     },
     "execution_count": 42,
     "metadata": {},
     "output_type": "execute_result"
    }
   ],
   "source": [
    "A = np.array([[1,2,3], [-3,4,5]])\n",
    "A"
   ]
  },
  {
   "cell_type": "code",
   "execution_count": 43,
   "metadata": {},
   "outputs": [
    {
     "name": "stdout",
     "output_type": "stream",
     "text": [
      "[[ 3  6  9]\n",
      " [-9 12 15]]\n",
      "[[-1 -2 -3]\n",
      " [ 3 -4 -5]]\n"
     ]
    }
   ],
   "source": [
    "B = np.array([[2,4,6], [-6,8,10]])\n",
    "print(A+B)\n",
    "print(A-B)"
   ]
  },
  {
   "cell_type": "markdown",
   "metadata": {},
   "source": [
    "## 行列の掛け算"
   ]
  },
  {
   "cell_type": "code",
   "execution_count": 44,
   "metadata": {},
   "outputs": [
    {
     "name": "stdout",
     "output_type": "stream",
     "text": [
      "[[ 2  8 18]\n",
      " [18 32 50]]\n",
      "[[ 2 -6]\n",
      " [ 4  8]\n",
      " [ 6 10]]\n",
      "[[ 28  40]\n",
      " [ 40 100]]\n"
     ]
    }
   ],
   "source": [
    "print(A*B) #対応する要素同士の掛け算\n",
    "print(B.T) #行列Bの転置行列\n",
    "print(np.dot(A,B.T)) #行列AとBの転置行列の掛け算"
   ]
  },
  {
   "cell_type": "code",
   "execution_count": 45,
   "metadata": {},
   "outputs": [
    {
     "name": "stdout",
     "output_type": "stream",
     "text": [
      "[[ 0.4 -0.2]\n",
      " [ 0.3  0.1]]\n",
      "[[1.00000000e+00 2.77555756e-17]\n",
      " [0.00000000e+00 1.00000000e+00]]\n"
     ]
    }
   ],
   "source": [
    "A = np.array([[1,2], [-3,4]])\n",
    "print(np.linalg.inv(A))\n",
    "print(np.dot(A,np.linalg.inv(A)))"
   ]
  },
  {
   "cell_type": "code",
   "execution_count": 46,
   "metadata": {},
   "outputs": [
    {
     "name": "stdout",
     "output_type": "stream",
     "text": [
      "10.000000000000002\n"
     ]
    }
   ],
   "source": [
    "print(np.linalg.det(A))"
   ]
  },
  {
   "cell_type": "markdown",
   "metadata": {},
   "source": [
    "## 固有ベクトル、固有値"
   ]
  },
  {
   "cell_type": "code",
   "execution_count": 47,
   "metadata": {},
   "outputs": [
    {
     "name": "stdout",
     "output_type": "stream",
     "text": [
      "固有値= [2.5+1.93649167j 2.5-1.93649167j]\n",
      "固有ベクトル= [[0.38729833-0.5j 0.38729833+0.5j]\n",
      " [0.77459667+0.j  0.77459667-0.j ]]\n"
     ]
    }
   ],
   "source": [
    "w,v = np.linalg.eig(A)\n",
    "print('固有値=',w)\n",
    "print('固有ベクトル=',v)\n",
    "# 固有ベクトルは(0.387~-0.5j,0.77~+0j)と\n",
    "# (0.387~+0.5j, 0.77~+0j)"
   ]
  },
  {
   "cell_type": "markdown",
   "metadata": {},
   "source": [
    "## 対角化"
   ]
  },
  {
   "cell_type": "code",
   "execution_count": 48,
   "metadata": {},
   "outputs": [
    {
     "name": "stdout",
     "output_type": "stream",
     "text": [
      "[[2.50000000e+00+1.93649167e+00j 2.22044605e-16+2.22044605e-16j]\n",
      " [4.44089210e-16-1.11022302e-16j 2.50000000e+00-1.93649167e+00j]]\n"
     ]
    }
   ],
   "source": [
    "# 前セルより、vに対角化行列\n",
    "vinv = np.linalg.inv(v) #vの逆行列\n",
    "vinv_A_v = np.dot(vinv, np.dot(A,v)) #v-1Av\n",
    "print(vinv_A_v)\n",
    "\n",
    "# (v-1Av)^n = v-1*A^n*v\n",
    "# A^n = v*(v-1Av)^n*v"
   ]
  },
  {
   "cell_type": "markdown",
   "metadata": {},
   "source": [
    "# シス工の前の課題"
   ]
  },
  {
   "cell_type": "code",
   "execution_count": 66,
   "metadata": {},
   "outputs": [],
   "source": [
    "A = np.array([[0.7,0.3],[0.6,0.4]])\n",
    "# (1)固有値と固有ベクトル\n",
    "# (2)nが0以上の整数で与えられる時、Aのn乗を計算するプログラム"
   ]
  },
  {
   "cell_type": "markdown",
   "metadata": {},
   "source": [
    "- (1)"
   ]
  },
  {
   "cell_type": "code",
   "execution_count": 50,
   "metadata": {},
   "outputs": [
    {
     "name": "stdout",
     "output_type": "stream",
     "text": [
      "固有値= [1.  0.1]\n",
      "固有ベクトル= [[ 0.70710678 -0.4472136 ]\n",
      " [ 0.70710678  0.89442719]]\n"
     ]
    }
   ],
   "source": [
    "w,v = np.linalg.eig(A)\n",
    "print('固有値=',w)\n",
    "print('固有ベクトル=',v)"
   ]
  },
  {
   "cell_type": "markdown",
   "metadata": {},
   "source": [
    "- (2)"
   ]
  },
  {
   "cell_type": "code",
   "execution_count": 65,
   "metadata": {},
   "outputs": [],
   "source": [
    "n = 3 #Aの3乘とする\n",
    "result = np.array([[0,0],[0,0]])"
   ]
  },
  {
   "cell_type": "code",
   "execution_count": 64,
   "metadata": {},
   "outputs": [
    {
     "data": {
      "text/plain": [
       "array([[0.6667, 0.3333],\n",
       "       [0.6666, 0.3334]])"
      ]
     },
     "execution_count": 64,
     "metadata": {},
     "output_type": "execute_result"
    }
   ],
   "source": [
    "for i in range(n):\n",
    "    if i == 0:\n",
    "        result = np.dot(A,A)\n",
    "    else:\n",
    "        result = np.dot(result,A)\n",
    "result"
   ]
  },
  {
   "cell_type": "code",
   "execution_count": null,
   "metadata": {},
   "outputs": [],
   "source": []
  }
 ],
 "metadata": {
  "kernelspec": {
   "display_name": "Python 3",
   "language": "python",
   "name": "python3"
  },
  "language_info": {
   "codemirror_mode": {
    "name": "ipython",
    "version": 3
   },
   "file_extension": ".py",
   "mimetype": "text/x-python",
   "name": "python",
   "nbconvert_exporter": "python",
   "pygments_lexer": "ipython3",
   "version": "3.7.7"
  }
 },
 "nbformat": 4,
 "nbformat_minor": 4
}
